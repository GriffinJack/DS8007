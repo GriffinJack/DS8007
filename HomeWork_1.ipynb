{
  "nbformat": 4,
  "nbformat_minor": 0,
  "metadata": {
    "kernelspec": {
      "display_name": "Python 2",
      "language": "python",
      "name": "python2"
    },
    "language_info": {
      "codemirror_mode": {
        "name": "ipython",
        "version": 2
      },
      "file_extension": ".py",
      "mimetype": "text/x-python",
      "name": "python",
      "nbconvert_exporter": "python",
      "pygments_lexer": "ipython2",
      "version": "2.7.13"
    },
    "colab": {
      "provenance": []
    }
  },
  "cells": [
    {
      "cell_type": "markdown",
      "metadata": {
        "id": "gn3mQk2JEsF3"
      },
      "source": [
        "# Homework 1 (100 points)\n",
        "## Part 1 (10 points, 2.5 points per question)\n",
        "### For each dataset, form a question that you want answered (if not provided), plot a corressponding visualization, and write a 1-2 lines on why the visualization is appropriate for the data\n",
        "* (1) Age of students in a remote school in India were listed as follows: 3, 11, 12, 19, 22, 23, 24, 25, 27, 29, 15, 6, 27, 17, 29. \n",
        "      \n",
        "\n"
      ]
    },
    {
      "cell_type": "code",
      "metadata": {
        "id": "1iopbu1nFA4T"
      },
      "source": [
        "#Insert your code here"
      ],
      "execution_count": null,
      "outputs": []
    },
    {
      "cell_type": "markdown",
      "metadata": {
        "id": "OAa_DmNNFB11"
      },
      "source": [
        "* (2) 150 students of class were asked to state their favorite subjects  and these were the results of survey.\n",
        "      French: 30,\tEnglish: 20, Maths:26, \tGeography: 38, \tScience:34\n"
      ]
    },
    {
      "cell_type": "code",
      "metadata": {
        "id": "tFgWXaW_FEWd"
      },
      "source": [
        "#Insert your code here"
      ],
      "execution_count": null,
      "outputs": []
    },
    {
      "cell_type": "markdown",
      "metadata": {
        "id": "i_88J3XIFE0i"
      },
      "source": [
        "* (3) A company collected statistics about children to show that children liked TV more than other activities. These were the results of the survey\n",
        "        School: 6, Sleep: 8, Playing: 2, Study: 4, T. V.: 1, Others: 3\n"
      ]
    },
    {
      "cell_type": "code",
      "metadata": {
        "id": "QnfyPnssFG-6"
      },
      "source": [
        "#Insert your code here"
      ],
      "execution_count": null,
      "outputs": []
    },
    {
      "cell_type": "markdown",
      "metadata": {
        "id": "VavvwcU0FHKP"
      },
      "source": [
        "* (4) A clinal trial measurement of two different groups A and B were reported. Which group is performing better (high values are better)?\n",
        "      A={0.22, -0.87, -2.39, -1.79, 0.37, -1.54, 1.28, -0.31, -0.74, 1.72, 0.38, -0.17, -1.62, -1.10, 0.30, 0.15, 2.30, 0.19, -0.50, -0.09}\n",
        "      B={-5.13, -2.15, -3.43, -3.83, 0.50, -3.25, 4.32, 0.63, 5.18, -0.43, 7.11, 4.87, -3.10, -5.81, 3.76, 6.31, 2.58, 0.07, 5.76, 3.50}"
      ]
    },
    {
      "cell_type": "code",
      "metadata": {
        "id": "DEXSFcS7FH9L"
      },
      "source": [
        "#Insert your code here"
      ],
      "execution_count": null,
      "outputs": []
    },
    {
      "cell_type": "markdown",
      "metadata": {
        "id": "gB4CV9h1E1iL"
      },
      "source": [
        "## Part 2 (5 points)\n",
        "### Look at the visualization in this linkhttps://nbc24.com/news/nation-world/gallery/jaw-dropping--over-100-million-now-on-federal-welfare?photo=1\n",
        "### Critique the design by answering the following questions (3 pts)\n"
      ]
    },
    {
      "cell_type": "markdown",
      "metadata": {
        "id": "Y702sDYIGapZ"
      },
      "source": [
        "\n",
        "1) What is the objective of that visualization?"
      ]
    },
    {
      "cell_type": "markdown",
      "metadata": {
        "id": "EZlbylT4FUOk"
      },
      "source": [
        "Insert your comments (answers) here"
      ]
    },
    {
      "cell_type": "markdown",
      "metadata": {
        "id": "FJbP1VU1FVTq"
      },
      "source": [
        "(2) What elements of the design are related to that objective? "
      ]
    },
    {
      "cell_type": "markdown",
      "metadata": {
        "id": "alZcbb-wFiWi"
      },
      "source": [
        "Insert your comments (answers) here"
      ]
    },
    {
      "cell_type": "markdown",
      "metadata": {
        "id": "pelHi97iFjI9"
      },
      "source": [
        "(3) Are those elements effective in achieving the objective"
      ]
    },
    {
      "cell_type": "markdown",
      "metadata": {
        "id": "ypt5WOEoGC8y"
      },
      "source": [
        "Insert your comments (answers) here"
      ]
    },
    {
      "cell_type": "markdown",
      "metadata": {
        "id": "W5i3Qo_5Fl9h"
      },
      "source": [
        "### Based on your own critique, fix the visualisation (replot with your revisions) (2 pts)"
      ]
    },
    {
      "cell_type": "markdown",
      "metadata": {
        "id": "oSo9pAYPFlWS"
      },
      "source": [
        "Insert your comments (answers) here"
      ]
    },
    {
      "cell_type": "code",
      "metadata": {
        "id": "_5e9BzjBGeR6"
      },
      "source": [
        "#Insert your code here"
      ],
      "execution_count": null,
      "outputs": []
    },
    {
      "cell_type": "markdown",
      "metadata": {
        "id": "Ld4yGXYkGvcN"
      },
      "source": [
        "## Part 3 (80 points)\n",
        "Use the dataset given in the course shell (Homework1dataset.zip) and conduct a Visual EDA (Exploratory Data Analysis) study by following these steps; \\\n",
        "\n",
        "(Data source: https://archive.ics.uci.edu/ml/datasets/Breast+Cancer+Wisconsin+(Diagnostic))"
      ]
    },
    {
      "cell_type": "markdown",
      "metadata": {
        "id": "XJ_vPUG9JFEd"
      },
      "source": [
        "(1) Visualize the target (label) of the dataset, and briefly explain your findings (Hint 1: Malignant or Benign) (Hint 2: Number of each class and/or the ratio)"
      ]
    },
    {
      "cell_type": "code",
      "metadata": {
        "id": "pBanysi7J4Xn"
      },
      "source": [
        "#Insert your code here"
      ],
      "execution_count": null,
      "outputs": []
    },
    {
      "cell_type": "markdown",
      "metadata": {
        "id": "lNDUisgZJ41m"
      },
      "source": [
        "(2) Plot histograms of features that has `\"_means\"` on attribute name (eg. `radius_mean`, `texture_mean`,`area_mean`, etc)"
      ]
    },
    {
      "cell_type": "code",
      "metadata": {
        "id": "D2OTYQfELV6u"
      },
      "source": [
        "#Insert your code here"
      ],
      "execution_count": null,
      "outputs": []
    },
    {
      "cell_type": "markdown",
      "metadata": {
        "id": "RzQNMDwNLWnH"
      },
      "source": [
        "(3) Plot histograms of features that has `\"_means\"` on attribute name (eg. `radius_mean`, `texture_mean`,`area_mean`, etc) for each class (Malignant or Benign) on the same histogram plot and briefly explain your findings."
      ]
    },
    {
      "cell_type": "code",
      "metadata": {
        "id": "wyKqU_NALjMT"
      },
      "source": [
        "#Insert your code here"
      ],
      "execution_count": null,
      "outputs": []
    },
    {
      "cell_type": "markdown",
      "metadata": {
        "id": "r_H_cIeFLmJY"
      },
      "source": [
        "(4) Conduct an outlier analysis using your choice of visualization for any 4 features. (Hint: You can use Box-Whiskers, Scatter plot)"
      ]
    },
    {
      "cell_type": "code",
      "metadata": {
        "id": "iDYSJOsZMDMi"
      },
      "source": [
        "#Insert your code here"
      ],
      "execution_count": null,
      "outputs": []
    },
    {
      "cell_type": "markdown",
      "metadata": {
        "id": "FnNxld-MMDpD"
      },
      "source": [
        "(5) Conduct an outlier analysis using your choice of visualization for any 4 features. (Hint: You can use Box-Whiskers, Scatter plot) for each class for comparison (preferably side by side), and briefly explain your findings."
      ]
    },
    {
      "cell_type": "code",
      "metadata": {
        "id": "DtcP7lZYMMlT"
      },
      "source": [
        "#Insert your code here"
      ],
      "execution_count": null,
      "outputs": []
    },
    {
      "cell_type": "markdown",
      "metadata": {
        "id": "lA9u6XUYMO0z"
      },
      "source": [
        "(6) **Bonus :** Analyze dataset, pick any question of yours to answer with an impressive visualization!"
      ]
    },
    {
      "cell_type": "code",
      "metadata": {
        "id": "z94RP29aM5Kt"
      },
      "source": [
        "#Insert your code here"
      ],
      "execution_count": null,
      "outputs": []
    }
  ]
}